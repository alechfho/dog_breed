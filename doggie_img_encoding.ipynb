{
 "cells": [
  {
   "cell_type": "markdown",
   "metadata": {},
   "source": [
    "# Notebook to preprocess the images into encodings (VGG19 fc2 produces 4096 array)"
   ]
  },
  {
   "cell_type": "code",
   "execution_count": 1,
   "metadata": {},
   "outputs": [
    {
     "name": "stderr",
     "output_type": "stream",
     "text": [
      "Using TensorFlow backend.\n"
     ]
    }
   ],
   "source": [
    "import pandas as pd\n",
    "import numpy as np\n",
    "\n",
    "from image_encoding import encode_images"
   ]
  },
  {
   "cell_type": "markdown",
   "metadata": {},
   "source": [
    "Use existing VGG19 model and load the weights\n",
    "VGG uses 224 x 224 images"
   ]
  },
  {
   "cell_type": "code",
   "execution_count": 2,
   "metadata": {
    "collapsed": true
   },
   "outputs": [],
   "source": [
    "INPUT_DIR = './input'\n",
    "IMAGE_DIR = '{input}/train-2/'.format(input=INPUT_DIR)\n",
    "\n",
    "ENCODING_SIZE = 4096\n",
    "ENCODING_STRATEGY = 'vgg19_' + str(ENCODING_SIZE)"
   ]
  },
  {
   "cell_type": "code",
   "execution_count": null,
   "metadata": {
    "collapsed": true
   },
   "outputs": [],
   "source": [
    "df_train_small = pd.read_csv(INPUT_DIR + '/labels_train_small.csv')\n",
    "df_dev_small = pd.read_csv(INPUT_DIR + '/labels_dev_small.csv')"
   ]
  },
  {
   "cell_type": "code",
   "execution_count": null,
   "metadata": {},
   "outputs": [],
   "source": [
    "df_train_small_vgg19_4096 = encode_images(df_train_small, INPUT_DIR, IMAGE_DIR, ENCODING_STRATEGY)\n",
    "df_train_small_vgg19_4096.to_csv(INPUT_DIR + '/labels_train_small_' + ENCODING_STRATEGY + '.csv', index=False)"
   ]
  },
  {
   "cell_type": "code",
   "execution_count": null,
   "metadata": {},
   "outputs": [],
   "source": [
    "df_dev_small_vgg19_4096 = encode_images(df_dev_small, INPUT_DIR, IMAGE_DIR, ENCODING_STRATEGY)\n",
    "df_dev_small_vgg19_4096.to_csv(INPUT_DIR + '/labels_dev_small_' + ENCODING_STRATEGY + '.csv', index=False)"
   ]
  },
  {
   "cell_type": "code",
   "execution_count": 3,
   "metadata": {},
   "outputs": [
    {
     "name": "stdout",
     "output_type": "stream",
     "text": [
      "./input/vgg19_4096 already exist\n",
      "./input/vgg19_4096 already exist\n"
     ]
    }
   ],
   "source": [
    "df_train_full = pd.read_csv(INPUT_DIR + '/labels_train_full.csv')\n",
    "df_dev_full = pd.read_csv(INPUT_DIR + '/labels_dev_full.csv')\n",
    "\n",
    "df_train_full_vgg19_4096 = encode_images(df_train_full, INPUT_DIR, IMAGE_DIR, ENCODING_STRATEGY)\n",
    "df_train_full_vgg19_4096.to_csv(INPUT_DIR + '/labels_train_full_' + ENCODING_STRATEGY + '.csv', index=False)\n",
    "\n",
    "df_dev_full_vgg19_4096 = encode_images(df_dev_full, INPUT_DIR, IMAGE_DIR, ENCODING_STRATEGY)\n",
    "df_dev_full_vgg19_4096.to_csv(INPUT_DIR + '/labels_dev_full_' + ENCODING_STRATEGY + '.csv', index=False)"
   ]
  },
  {
   "cell_type": "code",
   "execution_count": null,
   "metadata": {
    "collapsed": true
   },
   "outputs": [],
   "source": []
  }
 ],
 "metadata": {
  "kernelspec": {
   "display_name": "Python 3",
   "language": "python",
   "name": "python3"
  },
  "language_info": {
   "codemirror_mode": {
    "name": "ipython",
    "version": 3
   },
   "file_extension": ".py",
   "mimetype": "text/x-python",
   "name": "python",
   "nbconvert_exporter": "python",
   "pygments_lexer": "ipython3",
   "version": "3.6.3"
  }
 },
 "nbformat": 4,
 "nbformat_minor": 2
}
