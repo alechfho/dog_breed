{
 "cells": [
  {
   "cell_type": "code",
   "execution_count": 4,
   "metadata": {},
   "outputs": [],
   "source": [
    "import pandas as pd\n",
    "import time\n",
    "\n",
    "from matplotlib import pyplot as plt\n",
    "%matplotlib inline\n",
    "from PIL import Image\n",
    "\n",
    "from anchor_processing import *\n",
    "from triplet_encoding import *\n",
    "from shared_module import *"
   ]
  },
  {
   "cell_type": "code",
   "execution_count": 5,
   "metadata": {
    "collapsed": true
   },
   "outputs": [],
   "source": [
    "N_ANCHORS = ANCHORS_12\n",
    "\n",
    "train_labels_file_path = get_path(INPUT_DIR + '/' + 'labels', N_ANCHORS, VGG19_4096)"
   ]
  },
  {
   "cell_type": "code",
   "execution_count": null,
   "metadata": {},
   "outputs": [],
   "source": [
    "df_labels = pd.read_csv(train_labels_file_path('encoding'))\n",
    "\n",
    "df_anchor_result = process_anchors(df_labels, 'id', 'breed', N_ANCHORS)\n",
    "df_anchor_result.to_csv(train_labels_file_path('anchor'), index=False)"
   ]
  },
  {
   "cell_type": "code",
   "execution_count": null,
   "metadata": {},
   "outputs": [],
   "source": [
    "def show_anchors(df_anchor_result, breed):\n",
    "    print(breed + ' anchors ')\n",
    "    anchors = df_anchor_result[(df_anchor_result[ANP_COL] == 'A') & (df_anchor_result['breed'] == breed)]\n",
    "\n",
    "    for i, row in anchors.iterrows():\n",
    "        img = Image.open(IMAGE_DIR + '/{name}.jpg'.format(name=row['id']))\n",
    "        plt.imshow(img)\n",
    "        time.sleep(0.1)\n",
    "        plt.show() \n",
    "\n",
    "show_anchors(df_anchor_result, 'basset')\n",
    "\n",
    "show_anchors(df_anchor_result, 'collie')"
   ]
  },
  {
   "cell_type": "code",
   "execution_count": null,
   "metadata": {
    "collapsed": true
   },
   "outputs": [],
   "source": [
    "df_anchor_result = pd.read_csv(train_labels_file_path('anchor'))\n",
    "\n",
    "df_anchor, df_triplet = generate_random_triplet_dataframe(df_anchor_result, 'id', 'breed', N_ANCHORS)\n",
    "\n",
    "df_triplet.to_csv(train_labels_file_path('triplets'), index=False)\n"
   ]
  },
  {
   "cell_type": "code",
   "execution_count": null,
   "metadata": {
    "collapsed": true
   },
   "outputs": [],
   "source": []
  }
 ],
 "metadata": {
  "kernelspec": {
   "display_name": "Python 3",
   "language": "python",
   "name": "python3"
  },
  "language_info": {
   "codemirror_mode": {
    "name": "ipython",
    "version": 3
   },
   "file_extension": ".py",
   "mimetype": "text/x-python",
   "name": "python",
   "nbconvert_exporter": "python",
   "pygments_lexer": "ipython3",
   "version": "3.6.3"
  }
 },
 "nbformat": 4,
 "nbformat_minor": 2
}
